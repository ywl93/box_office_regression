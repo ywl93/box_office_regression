{
 "cells": [
  {
   "cell_type": "markdown",
   "metadata": {},
   "source": [
    "## Final Project Submission\n",
    "\n",
    "Please fill out:\n",
    "* Student name: Yi-Wei Liu\n",
    "* Student pace: Flex \n",
    "* Scheduled project review date/time: Feb 6, 2024 (15:00-15:45)\n",
    "* Instructor name: Morgan Jones\n",
    "* Blog post URL: https://medium.com/@yw.liu93/why-i-decided-to-pivot-to-data-science-088792776fc9"
   ]
  },
  {
   "cell_type": "markdown",
   "metadata": {},
   "source": [
    "### Final Project Submission\n",
    "\n",
    "A hypothetical company has decided to create a new movie studio, and would like to explore what types of films are currently doing the best at the box office. In this project, I look at the statistical relationship between various movie attributes - including production budget, genre, month of release, name of director - and worldwide box-office gross. "
   ]
  },
  {
   "cell_type": "markdown",
   "metadata": {},
   "source": [
    "### Data Source\n",
    "\n",
    "This project's data source includes datasets from two websites:\n",
    "- The Numbers (https://www.the-numbers.com/movie/budgets), which includes the release date, production budget and worldwide gross of 5,782 movies\n",
    "- IMDB (https://datasets.imdbws.com/), which includes a variety of movie data on over 70,000 movies. The key data we use includes genre and name of director.\n",
    "\n",
    "The datasets are very comprehensive for our purposes and are generally well-maintained. "
   ]
  },
  {
   "cell_type": "markdown",
   "metadata": {},
   "source": [
    "### Business Questions\n",
    "\n",
    "I will investigate if there is a statistically significant relationship between worldwide gross and three attributes: genre, month of release, and name of director. \n",
    "\n",
    "1. Genre: Of the three most popular genres, which genre is the most lucrative?\n",
    "2. Month of release: Are there particular months of the year (such as December or the summer months) that are more likely to have blockbuster movies?\n",
    "3. Name of director: Which directors have the highest impact on worldwide gross?"
   ]
  },
  {
   "cell_type": "markdown",
   "metadata": {},
   "source": [
    "### Data Preparation\n",
    "\n",
    "In the below section, I clean up the data to more efficiently answer the above business questions:\n",
    "\n",
    "asdf"
   ]
  },
  {
   "cell_type": "code",
   "execution_count": null,
   "metadata": {
    "scrolled": true
   },
   "outputs": [],
   "source": [
    "import pandas as pd\n",
    "import numpy as np\n",
    "import matplotlib.pyplot as plt\n",
    "%matplotlib inline\n",
    "\n",
    "# Opening the The Numbers CSV and getting a sense of the dataset: \n",
    "movie_df = pd.read_csv('zippedData/tn.movie_budgets.csv.gz', low_memory=False)\n",
    "movie_df.head()"
   ]
  },
  {
   "cell_type": "code",
   "execution_count": null,
   "metadata": {},
   "outputs": [],
   "source": [
    "import sqlite3\n",
    "\n",
    "# Opening the IMDB SQLite database and querying the attributes in the relevant tables:\n",
    "conn = sqlite3.connect('zippedData/im.db/im.db')\n",
    "\n",
    "q0 = \"\"\"\n",
    "SELECT\n",
    "    mb.primary_title,\n",
    "    mb.genres,\n",
    "    md.person_id\n",
    "FROM\n",
    "    movie_basics mb\n",
    "    JOIN directors md\n",
    "        ON md.movie_id = md.movie_id\n",
    ";\n",
    "\"\"\"\n",
    "\n",
    "q0_result = pd.read_sql(q0, conn)\n",
    "q0_result.head()"
   ]
  },
  {
   "cell_type": "code",
   "execution_count": null,
   "metadata": {},
   "outputs": [],
   "source": []
  },
  {
   "cell_type": "code",
   "execution_count": null,
   "metadata": {},
   "outputs": [],
   "source": [
    "q0_result.rename(columns={'primary_title':'movie'}, inplace=True)\n",
    "merged_df = pd.merge(movie_df, q0_result, how='left', on=['movie'])\n",
    "merged_df.head()"
   ]
  },
  {
   "cell_type": "code",
   "execution_count": null,
   "metadata": {},
   "outputs": [],
   "source": [
    "merged_df.describe()"
   ]
  },
  {
   "cell_type": "code",
   "execution_count": null,
   "metadata": {},
   "outputs": [],
   "source": [
    "merged_df.info()\n",
    "\n",
    "# confirm that all the instances are equal"
   ]
  },
  {
   "cell_type": "code",
   "execution_count": null,
   "metadata": {},
   "outputs": [],
   "source": [
    "analysis_df = merged_df.dropna()\n",
    "analysis_df.reset_index(drop=True, inplace=True)\n",
    "\n",
    "analysis_df = analysis_df.drop(['id','release_date','domestic_gross','movie_id','start_year'], axis=1)\n",
    "analysis_df.head()"
   ]
  },
  {
   "cell_type": "code",
   "execution_count": null,
   "metadata": {
    "scrolled": true
   },
   "outputs": [],
   "source": [
    "analysis_df['movie'].describe()"
   ]
  },
  {
   "cell_type": "code",
   "execution_count": null,
   "metadata": {},
   "outputs": [],
   "source": [
    "analysis_df.drop_duplicates(subset=['movie'], inplace=True)\n",
    "analysis_df['movie'].describe()"
   ]
  },
  {
   "cell_type": "code",
   "execution_count": null,
   "metadata": {
    "scrolled": true
   },
   "outputs": [],
   "source": [
    "analysis_df['production_budget'] = analysis_df['production_budget'].str.replace(',', '').str.replace('$', '').astype(float)\n",
    "analysis_df['worldwide_gross'] = analysis_df['worldwide_gross'].str.replace(',', '').str.replace('$', '').astype(float)\n",
    "analysis_df.describe()"
   ]
  },
  {
   "cell_type": "code",
   "execution_count": null,
   "metadata": {},
   "outputs": [],
   "source": [
    "analysis_df.drop(analysis_df[analysis_df['worldwide_gross'] <= 2476599].index, inplace = True)\n",
    "analysis_df.drop(analysis_df[analysis_df['production_budget'] <= 5000000].index, inplace = True)\n",
    "analysis_df.describe()\n",
    "\n",
    "# justify filtering out thresholds e.g. based on IQR"
   ]
  },
  {
   "cell_type": "code",
   "execution_count": null,
   "metadata": {},
   "outputs": [],
   "source": [
    "analysis_df['profit'] = analysis_df['worldwide_gross'] - analysis_df['production_budget']\n",
    "analysis_df['profit_margin'] = analysis_df['profit'] / analysis_df['production_budget']\n",
    "analysis_df.head()"
   ]
  },
  {
   "cell_type": "code",
   "execution_count": null,
   "metadata": {},
   "outputs": [],
   "source": [
    "analysis_df['genres_list'] = analysis_df['genres'].str.split(',')\n",
    "\n",
    "genres_df = pd.DataFrame(analysis_df['genres_list'].tolist()).fillna('').add_prefix('genre_')\n",
    "\n",
    "new_df = pd.concat([analysis_df, genres_df], axis=1)\n",
    "new_df = new_df.drop(['genres','genres_list'], axis=1)\n",
    "new_df.shape"
   ]
  },
  {
   "cell_type": "code",
   "execution_count": null,
   "metadata": {},
   "outputs": [],
   "source": [
    "new_df['genre_0'].value_counts()"
   ]
  },
  {
   "cell_type": "code",
   "execution_count": null,
   "metadata": {},
   "outputs": [],
   "source": [
    "new_df['genre_1'].value_counts()"
   ]
  },
  {
   "cell_type": "code",
   "execution_count": null,
   "metadata": {},
   "outputs": [],
   "source": [
    "new_df['genre_2'].value_counts()"
   ]
  },
  {
   "cell_type": "code",
   "execution_count": null,
   "metadata": {},
   "outputs": [],
   "source": [
    "def drama_conditions(s):\n",
    "    if (s['genre_0'] == \"Drama\") or (s['genre_1'] == \"Drama\") or (s['genre_2'] == \"Drama\"):\n",
    "        return 1\n",
    "    else:\n",
    "        return 0\n",
    "    \n",
    "def adventure_conditions(s):\n",
    "    if (s['genre_0'] == \"Adventure\") or (s['genre_1'] == \"Adventure\") or (s['genre_2'] == \"Adventure\"):\n",
    "        return 1\n",
    "    else:\n",
    "        return 0\n",
    "    \n",
    "def comedy_conditions(s):\n",
    "    if (s['genre_0'] == \"Comedy\") or (s['genre_1'] == \"Comedy\") or (s['genre_2'] == \"Comedy\"):\n",
    "        return 1\n",
    "    else:\n",
    "        return 0\n",
    "    \n",
    "new_df['drama_genre'] = new_df.apply(drama_conditions, axis=1)\n",
    "new_df['adventure_genre'] = new_df.apply(adventure_conditions, axis=1)\n",
    "new_df['comedy_genre'] = new_df.apply(comedy_conditions, axis=1)\n",
    "new_df = new_df.drop(['genre_0','genre_1','genre_2'], axis=1)\n",
    "new_df.head()\n",
    "\n",
    "# articulate why I picked these 3; tabulate the most popular genres; explode method"
   ]
  },
  {
   "cell_type": "code",
   "execution_count": null,
   "metadata": {},
   "outputs": [],
   "source": [
    "new_df.describe()"
   ]
  },
  {
   "cell_type": "code",
   "execution_count": null,
   "metadata": {},
   "outputs": [],
   "source": [
    "new_df = new_df.dropna()\n",
    "new_df.describe()"
   ]
  },
  {
   "cell_type": "code",
   "execution_count": null,
   "metadata": {},
   "outputs": [],
   "source": [
    "import statsmodels.api as sm\n",
    "\n",
    "X = new_df[['runtime_minutes','averagerating','drama_genre','adventure_genre','comedy_genre']]\n",
    "y = new_df[['worldwide_gross']]\n",
    "\n",
    "model = sm.OLS(endog=y, exog=sm.add_constant(X))\n",
    "\n",
    "results = model.fit()\n",
    "\n",
    "print(results.summary())\n",
    "\n",
    "# consider adding time of the year, "
   ]
  },
  {
   "cell_type": "code",
   "execution_count": null,
   "metadata": {},
   "outputs": [],
   "source": [
    "new_df['log_gross'] = np.log(new_df['worldwide_gross'])"
   ]
  },
  {
   "cell_type": "code",
   "execution_count": null,
   "metadata": {},
   "outputs": [],
   "source": [
    "import statsmodels.api as sm\n",
    "\n",
    "X = new_df[['runtime_minutes','averagerating','adventure_genre']]\n",
    "y = new_df[['log_gross']]\n",
    "\n",
    "log_model = sm.OLS(endog=y, exog=sm.add_constant(X))\n",
    "\n",
    "log_results = log_model.fit()\n",
    "\n",
    "print(log_results.summary())"
   ]
  },
  {
   "cell_type": "code",
   "execution_count": null,
   "metadata": {},
   "outputs": [],
   "source": [
    "fig, axs = plt.subplots(1, 2, sharey=True, figsize=(15,5))\n",
    "for idx, variable in enumerate(['runtime_minutes','averagerating']):\n",
    "    new_df.plot(kind='scatter', x=variable, y='worldwide_gross', label=variable, ax=axs[idx])\n",
    "axs[idx].legend()\n",
    "plt.show()\n",
    "\n",
    "# create heatmaps (multicollinearity) etc. for more EDA; start visualizations with pair plot"
   ]
  },
  {
   "cell_type": "code",
   "execution_count": null,
   "metadata": {},
   "outputs": [],
   "source": [
    "fig, ax = plt.subplots()\n",
    "\n",
    "ax.scatter(y, results.resid, color=\"green\")\n",
    "ax.axhline(y=0, color=\"black\")\n",
    "ax.set_xlabel(\"y\")\n",
    "ax.set_ylabel(\"residuals\")\n",
    "ax.set_title(\"Linear Relationship Residual Plot\");"
   ]
  },
  {
   "cell_type": "code",
   "execution_count": null,
   "metadata": {},
   "outputs": [],
   "source": [
    "fig, ax = plt.subplots()\n",
    "\n",
    "ax.scatter(y, log_results.resid, color=\"green\")\n",
    "ax.axhline(y=0, color=\"black\")\n",
    "ax.set_xlabel(\"y\")\n",
    "ax.set_ylabel(\"residuals\")\n",
    "ax.set_title(\"Linear Relationship Residual Plot\");"
   ]
  },
  {
   "cell_type": "code",
   "execution_count": null,
   "metadata": {},
   "outputs": [],
   "source": [
    "new_df.corr()"
   ]
  },
  {
   "cell_type": "code",
   "execution_count": null,
   "metadata": {},
   "outputs": [],
   "source": [
    "import statsmodels.api as sm\n",
    "\n",
    "X = new_df[['runtime_minutes','averagerating','adventure_genre']]\n",
    "y = new_df[['profit_margin']]\n",
    "\n",
    "model2 = sm.OLS(endog=y, exog=sm.add_constant(X))\n",
    "\n",
    "results2 = model2.fit()\n",
    "\n",
    "print(results2.summary())"
   ]
  },
  {
   "cell_type": "code",
   "execution_count": null,
   "metadata": {},
   "outputs": [],
   "source": []
  }
 ],
 "metadata": {
  "kernelspec": {
   "display_name": "Python 3",
   "language": "python",
   "name": "python3"
  },
  "language_info": {
   "codemirror_mode": {
    "name": "ipython",
    "version": 3
   },
   "file_extension": ".py",
   "mimetype": "text/x-python",
   "name": "python",
   "nbconvert_exporter": "python",
   "pygments_lexer": "ipython3",
   "version": "3.8.5"
  }
 },
 "nbformat": 4,
 "nbformat_minor": 2
}
